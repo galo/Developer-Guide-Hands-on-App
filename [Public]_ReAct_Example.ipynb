{
  "nbformat": 4,
  "nbformat_minor": 0,
  "metadata": {
    "colab": {
      "provenance": [],
      "include_colab_link": true
    },
    "kernelspec": {
      "name": "python3",
      "display_name": "Python 3"
    },
    "language_info": {
      "name": "python"
    }
  },
  "cells": [
    {
      "cell_type": "markdown",
      "metadata": {
        "id": "view-in-github",
        "colab_type": "text"
      },
      "source": [
        "<a href=\"https://colab.research.google.com/github/galo/Developer-Guide-Hands-on-App/blob/main/%5BPublic%5D_ReAct_Example.ipynb\" target=\"_parent\"><img src=\"https://colab.research.google.com/assets/colab-badge.svg\" alt=\"Open In Colab\"/></a>"
      ]
    },
    {
      "cell_type": "markdown",
      "source": [
        "# ReAct Prompting Framework Demonstration\n",
        "\n",
        "This notebook demonstrates the setup and use of the ReAct prompting framework with OpenAI's API, following the implementation details from [Simon Willison's learning log](https://til.simonwillison.net/llms/python-react-pattern).\n",
        "\n"
      ],
      "metadata": {
        "id": "1kGmFLlwwOpp"
      }
    },
    {
      "cell_type": "markdown",
      "source": [
        "## Installation\n",
        "\n",
        "First, ensure the necessary libraries are installed:"
      ],
      "metadata": {
        "id": "OfgwZl8Rw-Rf"
      }
    },
    {
      "cell_type": "code",
      "execution_count": null,
      "metadata": {
        "id": "UtnIc3rvs1lp"
      },
      "outputs": [],
      "source": [
        "!pip install openai httpx\n",
        "# !pip install openai==0.28\n",
        "from openai import OpenAI\n",
        "import re\n",
        "import httpx\n",
        "import os\n",
        "import json\n",
        "from getpass import getpass\n",
        "\n",
        "\n",
        "openai_api_key = getpass(\"🔑 Enter your OpenAI API key: \")\n",
        "os.environ[\"OPENAI_API_KEY\"] = openai_api_key\n"
      ]
    },
    {
      "cell_type": "markdown",
      "source": [
        "## ChatBot Class Definition\n",
        "Define the ChatBot class to manage conversation flow:"
      ],
      "metadata": {
        "id": "xUOkKd8FxEFb"
      }
    },
    {
      "cell_type": "code",
      "source": [
        "class ChatBot:\n",
        "    def __init__(self, system=\"\"):\n",
        "        self.system = system\n",
        "        self.messages = []\n",
        "        if self.system:\n",
        "            self.messages.append({\"role\": \"system\", \"content\": system})\n",
        "\n",
        "    def __call__(self, message):\n",
        "        self.messages.append({\"role\": \"user\", \"content\": message})\n",
        "        result = self.execute()\n",
        "        self.messages.append({\"role\": \"assistant\", \"content\": result})\n",
        "        return result\n",
        "\n",
        "    def execute(self):\n",
        "        client = OpenAI()\n",
        "\n",
        "        response = client.chat.completions.create(\n",
        "            model=\"gpt-3.5-turbo\",\n",
        "            messages=self.messages\n",
        "        )\n",
        "        # Uncomment this to print out token usage each time, e.g.\n",
        "        # {\"completion_tokens\": 86, \"prompt_tokens\": 26, \"total_tokens\": 112}\n",
        "        # print(completion.usage)\n",
        "        return response.choices[0].message.content"
      ],
      "metadata": {
        "id": "xjB_4GyttMdA"
      },
      "execution_count": null,
      "outputs": []
    },
    {
      "cell_type": "markdown",
      "source": [
        "Define the initial prompt that explains the conversation cycle:"
      ],
      "metadata": {
        "id": "m4MVqt71xKAK"
      }
    },
    {
      "cell_type": "code",
      "source": [
        "prompt = \"\"\"\n",
        "You run in a loop of Thought, Action, PAUSE, Observation.\n",
        "At the end of the loop you output an Answer\n",
        "Use Thought to describe your thoughts about the question you have been asked.\n",
        "Use Action to run one of the actions available to you - then return PAUSE.\n",
        "Observation will be the result of running those actions.\n",
        "\n",
        "Your available actions are:\n",
        "\n",
        "calculate:\n",
        "e.g. calculate: 4 * 7 / 3\n",
        "Runs a calculation and returns the number - uses Python so be sure to use floating point syntax if necessary\n",
        "\n",
        "wikipedia:\n",
        "e.g. wikipedia: Django\n",
        "Returns a summary from searching Wikipedia\n",
        "\n",
        "simon_blog_search:\n",
        "e.g. simon_blog_search: Django\n",
        "Search Simon's blog for that term\n",
        "\n",
        "Always look things up on Wikipedia if you have the opportunity to do so.\n",
        "\n",
        "Example session:\n",
        "\n",
        "Question: What is the capital of France?\n",
        "Thought: I should look up France on Wikipedia\n",
        "Action: wikipedia: France\n",
        "PAUSE\n",
        "\n",
        "You will be called again with this:\n",
        "\n",
        "Observation: France is a country. The capital is Paris.\n",
        "\n",
        "You then output:\n",
        "\n",
        "Answer: The capital of France is Paris\n",
        "\"\"\".strip()"
      ],
      "metadata": {
        "id": "uZL6HN4ctMXQ"
      },
      "execution_count": null,
      "outputs": []
    },
    {
      "cell_type": "markdown",
      "source": [
        "## Main Query Function\n",
        "Define the main function to start querying:"
      ],
      "metadata": {
        "id": "3KVakCqyxWza"
      }
    },
    {
      "cell_type": "code",
      "source": [
        "action_re = re.compile('^Action: (\\w+): (.*)$')\n",
        "\n",
        "def query(question, max_turns=5):\n",
        "    i = 0\n",
        "    bot = ChatBot(prompt)\n",
        "    next_prompt = question\n",
        "    while i < max_turns:\n",
        "        i += 1\n",
        "        result = bot(next_prompt)\n",
        "        print(result)\n",
        "        actions = [action_re.match(a) for a in result.split('\\n') if action_re.match(a)]\n",
        "        if actions:\n",
        "            # There is an action to run\n",
        "            action, action_input = actions[0].groups()\n",
        "            if action not in known_actions:\n",
        "                raise Exception(\"Unknown action: {}: {}\".format(action, action_input))\n",
        "            print(\" -- running {} {}\".format(action, action_input))\n",
        "            observation = known_actions[action](action_input)\n",
        "            print(\"Observation:\", observation)\n",
        "            next_prompt = \"Observation: {}\".format(observation)\n",
        "        else:\n",
        "            return"
      ],
      "metadata": {
        "id": "iSD7a03ktMUv"
      },
      "execution_count": null,
      "outputs": []
    },
    {
      "cell_type": "markdown",
      "source": [
        "## Action Handlers\n",
        "Define functions to handle different actions:"
      ],
      "metadata": {
        "id": "vWsLGCg1xOjU"
      }
    },
    {
      "cell_type": "code",
      "source": [
        "def wikipedia(q):\n",
        "    return httpx.get(\"https://en.wikipedia.org/w/api.php\", params={\n",
        "        \"action\": \"query\",\n",
        "        \"list\": \"search\",\n",
        "        \"srsearch\": q,\n",
        "        \"format\": \"json\"\n",
        "    }).json()[\"query\"][\"search\"][0][\"snippet\"]\n",
        "\n",
        "\n",
        "def simon_blog_search(q):\n",
        "    results = httpx.get(\"https://datasette.simonwillison.net/simonwillisonblog.json\", params={\n",
        "        \"sql\": \"\"\"\n",
        "        select\n",
        "          blog_entry.title || ': ' || substr(html_strip_tags(blog_entry.body), 0, 1000) as text,\n",
        "          blog_entry.created\n",
        "        from\n",
        "          blog_entry join blog_entry_fts on blog_entry.rowid = blog_entry_fts.rowid\n",
        "        where\n",
        "          blog_entry_fts match escape_fts(:q)\n",
        "        order by\n",
        "          blog_entry_fts.rank\n",
        "        limit\n",
        "          1\"\"\".strip(),\n",
        "        \"_shape\": \"array\",\n",
        "        \"q\": q,\n",
        "    }).json()\n",
        "    return results[0][\"text\"]\n",
        "\n",
        "def calculate(what):\n",
        "    return eval(what)\n",
        "\n",
        "known_actions = {\n",
        "    \"wikipedia\": wikipedia,\n",
        "    \"calculate\": calculate,\n",
        "    \"simon_blog_search\": simon_blog_search\n",
        "}"
      ],
      "metadata": {
        "id": "6CG2U9dZtT8r"
      },
      "execution_count": null,
      "outputs": []
    },
    {
      "cell_type": "markdown",
      "source": [
        "# Examples\n",
        "Initiate the querying process with a specific question:"
      ],
      "metadata": {
        "id": "fnAI_SGSxbnx"
      }
    },
    {
      "cell_type": "code",
      "source": [
        "query(\"What states does Ohio share borders with?\")"
      ],
      "metadata": {
        "colab": {
          "base_uri": "https://localhost:8080/"
        },
        "id": "B0BsFlzvtb-v",
        "outputId": "144057e8-3c9a-4078-c4b4-0b37f5a6de76"
      },
      "execution_count": null,
      "outputs": [
        {
          "output_type": "stream",
          "name": "stdout",
          "text": [
            "Thought: I should look up the neighboring states of Ohio to accurately answer this question.\n",
            "Action: wikipedia: Ohio\n",
            "PAUSE\n",
            " -- running wikipedia Ohio\n",
            "Observation: <span class=\"searchmatch\">Ohio</span> (/oʊˈhaɪ.oʊ/ oh-HY-oh) is a state in the Midwestern region of the United States. <span class=\"searchmatch\">Ohio</span> borders Lake Erie to the north, Pennsylvania to the east, West\n",
            "Answer: Ohio shares borders with Lake Erie to the north, Pennsylvania to the east, and West Virginia to the southeast.\n"
          ]
        }
      ]
    },
    {
      "cell_type": "code",
      "source": [
        "query(\"Calculate the square root of 256.\")\n"
      ],
      "metadata": {
        "colab": {
          "base_uri": "https://localhost:8080/"
        },
        "id": "NtJQ9qEJtgdX",
        "outputId": "2993e993-915e-404b-e676-29f5196f0d10"
      },
      "execution_count": null,
      "outputs": [
        {
          "output_type": "stream",
          "name": "stdout",
          "text": [
            "Thought: I can calculate the square root of 256.\n",
            "\n",
            "Action: calculate: 256 ** 0.5\n",
            "PAUSE\n",
            " -- running calculate 256 ** 0.5\n",
            "Observation: 16.0\n",
            "Answer: The square root of 256 is 16.\n"
          ]
        }
      ]
    },
    {
      "cell_type": "code",
      "source": [
        "query(\"Who was the first president of the United States?\")\n"
      ],
      "metadata": {
        "id": "gdutozjfxla8",
        "outputId": "7736fcfe-b1b7-41a5-82d9-6b079654849c",
        "colab": {
          "base_uri": "https://localhost:8080/"
        }
      },
      "execution_count": null,
      "outputs": [
        {
          "output_type": "stream",
          "name": "stdout",
          "text": [
            "ChatCompletion(id='chatcmpl-9HZ4CrktyUIV7OVjMNjHGbfXE9hR6', choices=[Choice(finish_reason='stop', index=0, logprobs=None, message=ChatCompletionMessage(content='Thought: I think I should search for information about the first president of the United States.\\nAction: wikipedia: President of the United States\\nPAUSE', role='assistant', function_call=None, tool_calls=None))], created=1713973400, model='gpt-3.5-turbo-0125', object='chat.completion', system_fingerprint='fp_c2295e73ad', usage=CompletionUsage(completion_tokens=30, prompt_tokens=250, total_tokens=280))\n",
            "Thought: I think I should search for information about the first president of the United States.\n",
            "Action: wikipedia: President of the United States\n",
            "PAUSE\n",
            " -- running wikipedia President of the United States\n",
            "Observation: <span class=\"searchmatch\">The</span> <span class=\"searchmatch\">president</span> <span class=\"searchmatch\">of</span> <span class=\"searchmatch\">the</span> <span class=\"searchmatch\">United</span> <span class=\"searchmatch\">States</span> (POTUS) is <span class=\"searchmatch\">the</span> head <span class=\"searchmatch\">of</span> state and head <span class=\"searchmatch\">of</span> government <span class=\"searchmatch\">of</span> <span class=\"searchmatch\">the</span> <span class=\"searchmatch\">United</span> <span class=\"searchmatch\">States</span> <span class=\"searchmatch\">of</span> America. <span class=\"searchmatch\">The</span> <span class=\"searchmatch\">president</span> directs <span class=\"searchmatch\">the</span> executive\n",
            "ChatCompletion(id='chatcmpl-9HZ4EElyt0uehtiheR0eKvknOviEV', choices=[Choice(finish_reason='stop', index=0, logprobs=None, message=ChatCompletionMessage(content='Thought: I should search specifically for information on the first president of the United States.\\nAction: wikipedia: George Washington\\nPAUSE', role='assistant', function_call=None, tool_calls=None))], created=1713973402, model='gpt-3.5-turbo-0125', object='chat.completion', system_fingerprint='fp_c2295e73ad', usage=CompletionUsage(completion_tokens=26, prompt_tokens=495, total_tokens=521))\n",
            "Thought: I should search specifically for information on the first president of the United States.\n",
            "Action: wikipedia: George Washington\n",
            "PAUSE\n",
            " -- running wikipedia George Washington\n",
            "Observation: <span class=\"searchmatch\">George</span> <span class=\"searchmatch\">Washington</span> (February 22, 1732 – December 14, 1799) was an American Founding Father, military officer, and politician who served as the first president\n",
            "ChatCompletion(id='chatcmpl-9HZ4FhBrPsVPI637P6b3hZuKGGJV0', choices=[Choice(finish_reason='stop', index=0, logprobs=None, message=ChatCompletionMessage(content='Answer: The first president of the United States was George Washington.', role='assistant', function_call=None, tool_calls=None))], created=1713973403, model='gpt-3.5-turbo-0125', object='chat.completion', system_fingerprint='fp_c2295e73ad', usage=CompletionUsage(completion_tokens=13, prompt_tokens=590, total_tokens=603))\n",
            "Answer: The first president of the United States was George Washington.\n"
          ]
        }
      ]
    },
    {
      "cell_type": "code",
      "source": [
        "query(\"What is the chemical formula for water?\")"
      ],
      "metadata": {
        "id": "XDB_zo90xo44",
        "outputId": "8c65db59-26fe-4e57-c35e-7c76a03347be",
        "colab": {
          "base_uri": "https://localhost:8080/"
        }
      },
      "execution_count": null,
      "outputs": [
        {
          "output_type": "stream",
          "name": "stdout",
          "text": [
            "ChatCompletion(id='chatcmpl-9HZ4M2FtYjyBsfKWxNOifruX9eMEy', choices=[Choice(finish_reason='stop', index=0, logprobs=None, message=ChatCompletionMessage(content='Thought: I know the chemical formula for water is H2O, but let me double check on Wikipedia to confirm.\\n\\nAction: wikipedia: Water\\nPAUSE', role='assistant', function_call=None, tool_calls=None))], created=1713973410, model='gpt-3.5-turbo-0125', object='chat.completion', system_fingerprint='fp_c2295e73ad', usage=CompletionUsage(completion_tokens=32, prompt_tokens=248, total_tokens=280))\n",
            "Thought: I know the chemical formula for water is H2O, but let me double check on Wikipedia to confirm.\n",
            "\n",
            "Action: wikipedia: Water\n",
            "PAUSE\n",
            " -- running wikipedia Water\n",
            "Observation: <span class=\"searchmatch\">Water</span> is an inorganic compound with the chemical formula H2O. It is a transparent, tasteless, odorless, and nearly colorless chemical substance, and it\n",
            "ChatCompletion(id='chatcmpl-9HZ4OsrTHaWFkcl5r4QlF8wgjszfb', choices=[Choice(finish_reason='stop', index=0, logprobs=None, message=ChatCompletionMessage(content='Answer: The chemical formula for water is H2O.', role='assistant', function_call=None, tool_calls=None))], created=1713973412, model='gpt-3.5-turbo-0125', object='chat.completion', system_fingerprint='fp_c2295e73ad', usage=CompletionUsage(completion_tokens=12, prompt_tokens=335, total_tokens=347))\n",
            "Answer: The chemical formula for water is H2O.\n"
          ]
        }
      ]
    },
    {
      "cell_type": "code",
      "source": [],
      "metadata": {
        "id": "eCxWOMlrxrZp"
      },
      "execution_count": null,
      "outputs": []
    }
  ]
}